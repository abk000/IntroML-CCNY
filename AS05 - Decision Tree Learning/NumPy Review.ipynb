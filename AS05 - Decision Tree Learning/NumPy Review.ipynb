{
 "cells": [
  {
   "cell_type": "code",
   "execution_count": 2,
   "metadata": {},
   "outputs": [
    {
     "data": {
      "text/plain": [
       "[1, 2, 3, 4, 10, 11, 12, 13]"
      ]
     },
     "execution_count": 2,
     "metadata": {},
     "output_type": "execute_result"
    }
   ],
   "source": [
    "# Why use NumPy? \n",
    "\n",
    "# w/o np arrays: \n",
    "\n",
    "a = [1, 2, 3, 4]\n",
    "b = [10, 11, 12, 13]\n",
    "\n",
    "a + b"
   ]
  },
  {
   "cell_type": "code",
   "execution_count": 3,
   "metadata": {},
   "outputs": [
    {
     "name": "stdout",
     "output_type": "stream",
     "text": [
      "6.75 ms ± 170 µs per loop (mean ± std. dev. of 7 runs, 100 loops each)\n"
     ]
    }
   ],
   "source": [
    "# lists get concatenated, not added element-by-element \n",
    "\n",
    "# how to do this w/o np: \n",
    "\n",
    "output = []\n",
    "\n",
    "for item1, item2 in zip(a,b):\n",
    "    output.append(item1 + item2)\n",
    "    \n",
    "# somewhat verbose ^ \n",
    "    \n",
    "g = list(range(1000000))\n",
    "%timeit sum(g)"
   ]
  },
  {
   "cell_type": "code",
   "execution_count": 4,
   "metadata": {},
   "outputs": [
    {
     "name": "stdout",
     "output_type": "stream",
     "text": [
      "663 µs ± 15.8 µs per loop (mean ± std. dev. of 7 runs, 1000 loops each)\n"
     ]
    }
   ],
   "source": [
    "# w/ numpy\n",
    "\n",
    "import numpy as np \n",
    "\n",
    "g_array = np.array(g)\n",
    "\n",
    "%timeit np.sum(g_array)"
   ]
  },
  {
   "cell_type": "code",
   "execution_count": 5,
   "metadata": {},
   "outputs": [
    {
     "data": {
      "text/plain": [
       "array([11, 13, 15, 17])"
      ]
     },
     "execution_count": 5,
     "metadata": {},
     "output_type": "execute_result"
    }
   ],
   "source": [
    "# numpy faster because python lists contain addresses but np arrays bunches the homogeneous data together in a contigouos buffer of memory \n",
    "\n",
    "\n",
    "a = np.array([1, 2, 3, 4])\n",
    "b = np.array([10, 11, 12, 13])\n",
    "\n",
    "a + b"
   ]
  },
  {
   "cell_type": "code",
   "execution_count": 6,
   "metadata": {},
   "outputs": [
    {
     "data": {
      "text/plain": [
       "numpy.ndarray"
      ]
     },
     "execution_count": 6,
     "metadata": {},
     "output_type": "execute_result"
    }
   ],
   "source": [
    "# works with each operator: + , -, *, /, **\n",
    "\n",
    "# attributes: \n",
    "\n",
    "# type of the container \n",
    "type(a) \n"
   ]
  },
  {
   "cell_type": "code",
   "execution_count": 7,
   "metadata": {},
   "outputs": [
    {
     "data": {
      "text/plain": [
       "dtype('int64')"
      ]
     },
     "execution_count": 7,
     "metadata": {},
     "output_type": "execute_result"
    }
   ],
   "source": [
    "# type of data \n",
    "a.dtype "
   ]
  },
  {
   "cell_type": "code",
   "execution_count": 8,
   "metadata": {},
   "outputs": [
    {
     "data": {
      "text/plain": [
       "1"
      ]
     },
     "execution_count": 8,
     "metadata": {},
     "output_type": "execute_result"
    }
   ],
   "source": [
    "# dimensions\n",
    "a.ndim "
   ]
  },
  {
   "cell_type": "code",
   "execution_count": 9,
   "metadata": {},
   "outputs": [
    {
     "data": {
      "text/plain": [
       "(4,)"
      ]
     },
     "execution_count": 9,
     "metadata": {},
     "output_type": "execute_result"
    }
   ],
   "source": [
    "# array shape gives tuple of length of each dimension \n",
    "a.shape"
   ]
  },
  {
   "cell_type": "code",
   "execution_count": 10,
   "metadata": {},
   "outputs": [
    {
     "data": {
      "text/plain": [
       "8"
      ]
     },
     "execution_count": 10,
     "metadata": {},
     "output_type": "execute_result"
    }
   ],
   "source": [
    "# bytes per element\n",
    "a.itemsize"
   ]
  },
  {
   "cell_type": "code",
   "execution_count": 11,
   "metadata": {},
   "outputs": [
    {
     "data": {
      "text/plain": [
       "4"
      ]
     },
     "execution_count": 11,
     "metadata": {},
     "output_type": "execute_result"
    }
   ],
   "source": [
    "# num of elements\n",
    "a.size"
   ]
  },
  {
   "cell_type": "code",
   "execution_count": 12,
   "metadata": {},
   "outputs": [
    {
     "data": {
      "text/plain": [
       "32"
      ]
     },
     "execution_count": 12,
     "metadata": {},
     "output_type": "execute_result"
    }
   ],
   "source": [
    "# total number of bytes used\n",
    "a.nbytes"
   ]
  },
  {
   "cell_type": "code",
   "execution_count": 13,
   "metadata": {},
   "outputs": [
    {
     "name": "stdout",
     "output_type": "stream",
     "text": [
      "3\n",
      "[0 0 0 0]\n"
     ]
    },
    {
     "data": {
      "text/plain": [
       "dtype('complex128')"
      ]
     },
     "execution_count": 13,
     "metadata": {},
     "output_type": "execute_result"
    }
   ],
   "source": [
    "# np arrays are mutable and truncate to match data type. Can fill as well. The array will take the dtype of the \n",
    "# highest type on the number hierarchy (i.e, one complex number in the initialization with everything else an int, the dtype\n",
    "# would be complex)\n",
    "\n",
    "mutable = np.array([23, 35, 3, 89])\n",
    "\n",
    "mutable[0] = 3.4 \n",
    "\n",
    "print(mutable[0])\n",
    "\n",
    "mutable.fill(0)\n",
    "print(mutable)\n",
    "\n",
    "cplx = np.array([0+3j, 5, 3 ,5])\n",
    "cplx.dtype"
   ]
  },
  {
   "cell_type": "code",
   "execution_count": 14,
   "metadata": {},
   "outputs": [
    {
     "name": "stdout",
     "output_type": "stream",
     "text": [
      "2\n",
      "(2, 3)\n"
     ]
    },
    {
     "data": {
      "text/plain": [
       "array([[10, 11, 12],\n",
       "       [20, 21, 22]])"
      ]
     },
     "execution_count": 14,
     "metadata": {},
     "output_type": "execute_result"
    }
   ],
   "source": [
    "c = np.array([[10, 11, 12], [20, 21, 22]])\n",
    "print(c.ndim)\n",
    "print(c.shape)\n",
    "c"
   ]
  },
  {
   "cell_type": "code",
   "execution_count": 15,
   "metadata": {},
   "outputs": [
    {
     "name": "stdout",
     "output_type": "stream",
     "text": [
      "[1 2 3]\n"
     ]
    }
   ],
   "source": [
    "# np arrays are not matrices. They are multidimensional arrays. Transposing a 1d array will not give a column vector \n",
    "# because there is no implicit second dimension. \n",
    "\n",
    "oned = np.array([1,2,3])\n",
    "\n",
    "print(oned.T)"
   ]
  },
  {
   "cell_type": "code",
   "execution_count": 16,
   "metadata": {},
   "outputs": [
    {
     "data": {
      "text/plain": [
       "10"
      ]
     },
     "execution_count": 16,
     "metadata": {},
     "output_type": "execute_result"
    }
   ],
   "source": [
    "# syntax difference: referencing an element in a multidem array; in python you chain square brackets, in np you \n",
    "# can keep all indices in the same bracket seperated by a comma \n",
    "\n",
    "c[0,0]"
   ]
  },
  {
   "cell_type": "code",
   "execution_count": 17,
   "metadata": {},
   "outputs": [
    {
     "name": "stdout",
     "output_type": "stream",
     "text": [
      "[[11]\n",
      " [21]]\n"
     ]
    }
   ],
   "source": [
    "# slicing array_name[start:non inclusive stop: optional step size], negative indices work (i.e, positions relative to \n",
    "# the end of the array)\n",
    "\n",
    "# can ommit first element to start from beginning, ommit last to go until end \n",
    "\n",
    "# slicing multidem works the same way, and the referencing convention can also be written as comma seperated within \n",
    "# the same set of brackets \n",
    "\n",
    "# example to get middle column \n",
    "\n",
    "\n",
    "\n",
    "print(c[:, 1:-1])"
   ]
  },
  {
   "cell_type": "code",
   "execution_count": 18,
   "metadata": {},
   "outputs": [
    {
     "name": "stdout",
     "output_type": "stream",
     "text": [
      "[ 0  0  0 30 40  0 60 70]\n"
     ]
    }
   ],
   "source": [
    "# masks\n",
    "\n",
    "mask = np.array([0, 1, 1, 0, 0, 1, 0, 0], dtype = bool)\n",
    "\n",
    "mask2 = a < 30 \n",
    "\n",
    "a1 = np.arange(0, 80, 10)\n",
    "\n",
    "y = a1[mask]\n",
    "\n",
    "#can use masks for updating values as wel \n",
    "\n",
    "a1[mask] = 0\n",
    "\n",
    "print(a1)"
   ]
  },
  {
   "cell_type": "code",
   "execution_count": 19,
   "metadata": {},
   "outputs": [],
   "source": [
    "# cannot use syntax such as a < 8 and a > 3. Must use a.any() or a.all() to specify what the truth value of an array is. \n",
    "# bitwise operators: & and, | or , ~ not, ^ xor \n",
    "# binary operator: and, or, not \n",
    "# conclusion: can use bitwise operators on the above syntax but not binary \n",
    "\n"
   ]
  },
  {
   "cell_type": "code",
   "execution_count": 20,
   "metadata": {},
   "outputs": [
    {
     "data": {
      "text/plain": [
       "array([0., 0., 0., 0., 0., 0., 0., 0., 0., 0., 1., 1., 1., 1., 1., 1., 1.,\n",
       "       1., 1., 1.])"
      ]
     },
     "execution_count": 20,
     "metadata": {},
     "output_type": "execute_result"
    }
   ],
   "source": [
    "z = np.zeros(10)\n",
    "z1 = np.array([1, 1, 1, 1, 1, 1, 1, 1, 1, 1])\n",
    "\n",
    "res = np.hstack((z, z1))\n",
    "res"
   ]
  },
  {
   "cell_type": "code",
   "execution_count": 22,
   "metadata": {},
   "outputs": [
    {
     "data": {
      "text/plain": [
       "array([ 0,  1,  2,  3,  4,  5,  6,  7,  8,  9, 10, 11, 12, 13, 14, 15, 16,\n",
       "       17, 18, 19])"
      ]
     },
     "execution_count": 22,
     "metadata": {},
     "output_type": "execute_result"
    }
   ],
   "source": [
    "print(np.arange(20))"
   ]
  },
  {
   "cell_type": "code",
   "execution_count": null,
   "metadata": {},
   "outputs": [],
   "source": []
  }
 ],
 "metadata": {
  "kernelspec": {
   "display_name": "Python 3",
   "language": "python",
   "name": "python3"
  },
  "language_info": {
   "codemirror_mode": {
    "name": "ipython",
    "version": 3
   },
   "file_extension": ".py",
   "mimetype": "text/x-python",
   "name": "python",
   "nbconvert_exporter": "python",
   "pygments_lexer": "ipython3",
   "version": "3.6.5"
  }
 },
 "nbformat": 4,
 "nbformat_minor": 2
}
