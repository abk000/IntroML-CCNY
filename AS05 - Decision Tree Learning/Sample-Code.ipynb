{
 "cells": [
  {
   "cell_type": "code",
   "execution_count": 2,
   "metadata": {},
   "outputs": [
    {
     "ename": "ModuleNotFoundError",
     "evalue": "No module named 'GraphViz'",
     "output_type": "error",
     "traceback": [
      "\u001b[0;31m---------------------------------------------------------------------------\u001b[0m",
      "\u001b[0;31mModuleNotFoundError\u001b[0m                       Traceback (most recent call last)",
      "\u001b[0;32m<ipython-input-2-1e7601085b27>\u001b[0m in \u001b[0;36m<module>\u001b[0;34m()\u001b[0m\n\u001b[1;32m      4\u001b[0m \u001b[0;32mfrom\u001b[0m \u001b[0mmatplotlib\u001b[0m\u001b[0;34m.\u001b[0m\u001b[0mticker\u001b[0m \u001b[0;32mimport\u001b[0m \u001b[0mMaxNLocator\u001b[0m\u001b[0;34m\u001b[0m\u001b[0m\n\u001b[1;32m      5\u001b[0m \u001b[0;32mimport\u001b[0m \u001b[0mnumpy\u001b[0m \u001b[0;32mas\u001b[0m \u001b[0mnp\u001b[0m\u001b[0;34m\u001b[0m\u001b[0m\n\u001b[0;32m----> 6\u001b[0;31m \u001b[0;32mimport\u001b[0m \u001b[0mGraphViz\u001b[0m\u001b[0;34m\u001b[0m\u001b[0m\n\u001b[0m\u001b[1;32m      7\u001b[0m \u001b[0;32mfrom\u001b[0m \u001b[0mgraphviz\u001b[0m \u001b[0;32mimport\u001b[0m \u001b[0mDigraph\u001b[0m\u001b[0;34m\u001b[0m\u001b[0m\n\u001b[1;32m      8\u001b[0m \u001b[0;32mfrom\u001b[0m \u001b[0msklearn\u001b[0m\u001b[0;34m.\u001b[0m\u001b[0mmodel_selection\u001b[0m \u001b[0;32mimport\u001b[0m \u001b[0mtrain_test_split\u001b[0m\u001b[0;34m\u001b[0m\u001b[0m\n",
      "\u001b[0;31mModuleNotFoundError\u001b[0m: No module named 'GraphViz'"
     ]
    }
   ],
   "source": [
    "from IPython.display import Image\n",
    "%matplotlib inline\n",
    "import matplotlib.pyplot as plt\n",
    "from matplotlib.ticker import MaxNLocator \n",
    "import numpy as np\n",
    "import graphviz\n",
    "from graphviz import Digraph\n",
    "from sklearn.model_selection import train_test_split\n",
    "from sklearn.tree import DecisionTreeClassifier\n",
    "from sklearn.tree import export_graphviz"
   ]
  },
  {
   "cell_type": "code",
   "execution_count": null,
   "metadata": {},
   "outputs": [],
   "source": [
    "# learn a line segment"
   ]
  },
  {
   "cell_type": "code",
   "execution_count": null,
   "metadata": {},
   "outputs": [],
   "source": [
    "# generate data for a line segment [0.5, 1.5) (y=1) and \n",
    "# for points outside the line segent [1.5, 2.0] (y=0)\n",
    "\n",
    "npts = 1000\n",
    "\n",
    "X1 = np.zeros((npts,1))\n",
    "y0 = np.zeros(npts)\n",
    "y1 = np.zeros(npts)\n",
    "\n",
    "for i in range(0,npts): \n",
    "    X1[i,0] = np.random.uniform(0.0,2.0)         \n",
    "    if ((X1[i,0]<=0.5) or (X1[i,0]>1.5)):\n",
    "        y1[i] = 0\n",
    "    else:\n",
    "        y1[i] = 1\n"
   ]
  },
  {
   "cell_type": "code",
   "execution_count": null,
   "metadata": {},
   "outputs": [],
   "source": [
    "# plot data points\n",
    "plt.close('all')\n",
    "plt.figure(figsize=(8, 1))\n",
    "plt.title('Learning a Line Segment', fontsize='medium')\n",
    "plt.xlabel('x')\n",
    "plt.ylabel('')\n",
    "plt.scatter(x = X1[y1==0, 0], y=y0[y1==0], color='red', label='0', s=5)\n",
    "plt.scatter(x = X1[y1==1, 0], y=y0[y1==1], color='green', label='1', s=5)\n",
    "plt.axis(range=1, aspect=1)\n",
    "plt.xlim(-0.1,2.1)\n",
    "plt.ylim(-0.1,0.1)\n",
    "plt.show()"
   ]
  },
  {
   "cell_type": "code",
   "execution_count": null,
   "metadata": {
    "scrolled": false
   },
   "outputs": [],
   "source": [
    "# split data into 50% training and 50% test data\n",
    "\n",
    "X1_train, X1_test, y1_train, y1_test = train_test_split(\n",
    "         X1, y1, test_size=0.50, random_state=0)\n",
    "\n",
    "if (npts==20):\n",
    "    print(np.sort(X1_train.transpose()))"
   ]
  },
  {
   "cell_type": "code",
   "execution_count": null,
   "metadata": {},
   "outputs": [],
   "source": [
    "# Fit for various depth trees\n",
    "MaxDepth = 4\n",
    "Errors = np.zeros((MaxDepth,2))\n",
    "\n",
    "print ('Max Depth, Training, Test')\n",
    "\n",
    "for i in range(0,MaxDepth):\n",
    "    tree = DecisionTreeClassifier(criterion='entropy', max_depth=i+1, random_state=0)\n",
    "    tree.fit(X1_train, y1_train)\n",
    "\n",
    "    X1_combined = np.vstack((X1_train, X1_test))\n",
    "    y1_combined = np.hstack((y1_train, y1_test))\n",
    "\n",
    "    # optional outputs\n",
    "    z = tree.apply(X1_combined)\n",
    "    #print(z)\n",
    "    dp = tree.decision_path(X1_combined)\n",
    "    #print (dp)\n",
    "    \n",
    "    Errors[i,0] = 1 - tree.score(X1_train,y1_train)\n",
    "    Errors[i,1] = 1 - tree.score(X1_test,y1_test)\n",
    "    print(i+1,Errors[i,0],Errors[i,1])\n"
   ]
  },
  {
   "cell_type": "code",
   "execution_count": null,
   "metadata": {},
   "outputs": [],
   "source": [
    "# plot the final decision gree\n",
    "export_graphviz(tree, out_file='T1.dot', feature_names=['x'])\n",
    "with open('T1.dot') as f:\n",
    "    dot_graph = f.read()\n",
    "graphviz.Source(dot_graph)"
   ]
  },
  {
   "cell_type": "code",
   "execution_count": null,
   "metadata": {},
   "outputs": [],
   "source": [
    "#\n",
    "# If you want to generate a .png file of the image of the tree use the following steps:\n",
    "# 1) Install GraphViz on your computer\n",
    "# 2) Open a command prompt\n",
    "# 3) Go to the directory in which the T1.dot file was stored \n",
    "#    when you ran the preceeding cell\n",
    "#    It will probably be the same directory that this .ipynb file is in\n",
    "# 4) Run the command:  dot -Tpng T1.dot -o T1.png\n",
    "# 5) The image will be in the file T1.png\n",
    "#"
   ]
  },
  {
   "cell_type": "code",
   "execution_count": null,
   "metadata": {
    "scrolled": false
   },
   "outputs": [],
   "source": [
    "# plot errors by tree depth    \n",
    "  \n",
    "plt.close('all')\n",
    "fig, ax = plt.subplots(nrows=1, ncols=1, figsize = (8,4))\n",
    "ax.set_xlabel('Maximum Tree Depth')\n",
    "ax.set_ylabel('Error')\n",
    "ax.set_title('Learning a Line Segment', fontsize ='medium')\n",
    "ax.xaxis.set_major_locator(MaxNLocator(integer=True))\n",
    "ax.plot(np.arange(1,MaxDepth+1),Errors[:,0], label='train')\n",
    "ax.plot(np.arange(1,MaxDepth+1),Errors[:,1], label='test')\n",
    "ax.legend(loc='upper right', fontsize='medium')\n",
    "plt.show() \n"
   ]
  },
  {
   "cell_type": "code",
   "execution_count": null,
   "metadata": {},
   "outputs": [],
   "source": [
    "# learn an axis-aligned rectangle"
   ]
  },
  {
   "cell_type": "code",
   "execution_count": null,
   "metadata": {},
   "outputs": [],
   "source": [
    "# generate data for an axis-aligned rectangle with vertex coordinates\n",
    "# (0.5,0.5),(0.5,1.5),(1.5,0.5),(1.5,1.5) \n",
    "# for points inside the rectangke, y=1 and for points outside the rectangle, y=0.\n",
    "\n",
    "npts = 10000\n",
    "\n",
    "X2 = np.zeros((npts,2))\n",
    "y2 = np.zeros(npts)\n",
    "\n",
    "for i in range(0,npts): \n",
    "    X2[i,0] = np.random.uniform(0.0,2.0) \n",
    "    X2[i,1] = np.random.uniform(0.0,2.0) \n",
    "    if ((X2[i,0]<=0.5) or (X2[i,0]>1.5) or (X2[i,1]<=0.5) or (X2[i,1]>1.5)):\n",
    "        y2[i] = 0\n",
    "    else:\n",
    "        y2[i] = 1\n",
    "        "
   ]
  },
  {
   "cell_type": "code",
   "execution_count": null,
   "metadata": {
    "scrolled": false
   },
   "outputs": [],
   "source": [
    "# plot data points\n",
    "plt.close('all')\n",
    "plt.figure(figsize=(8, 8))\n",
    "plt.title('Learning an Axis-Aligned Rectangle', fontsize='medium')\n",
    "plt.xlabel('x')\n",
    "plt.ylabel('y')\n",
    "plt.scatter(x = X2[y2==0, 0], y = X2[y2==0, 1], color='red', label='0', s=5)\n",
    "plt.scatter(x = X2[y2==1, 0], y = X2[y2==1, 1], color='green', label='1', s=5)\n",
    "plt.axis(range=1, aspect=1)\n",
    "plt.xlim(-0.1,2.1)\n",
    "plt.ylim(-0.1,2.1)\n",
    "plt.show()"
   ]
  },
  {
   "cell_type": "code",
   "execution_count": null,
   "metadata": {
    "scrolled": false
   },
   "outputs": [],
   "source": [
    "# split data into 50% training and 50% test data\n",
    "from sklearn.model_selection import train_test_split\n",
    "\n",
    "X2_train, X2_test, y2_train, y2_test = train_test_split(\n",
    "         X2, y2, test_size=0.50, random_state=0)\n"
   ]
  },
  {
   "cell_type": "code",
   "execution_count": null,
   "metadata": {},
   "outputs": [],
   "source": [
    "# Fit for various depth trees\n",
    "MaxDepth = 5\n",
    "Errors = np.zeros((MaxDepth,2))\n",
    "\n",
    "print ('Max Depth, Training, Test')\n",
    "\n",
    "for i in range(0,MaxDepth):\n",
    "    tree = DecisionTreeClassifier(criterion='entropy', max_depth=i+1, random_state=0)\n",
    "    tree.fit(X2_train, y2_train)\n",
    "\n",
    "    X2_combined = np.vstack((X2_train, X2_test))\n",
    "    y2_combined = np.hstack((y2_train, y2_test))\n",
    "\n",
    "    # optional outputs\n",
    "    z = tree.apply(X2_combined)\n",
    "    #print(z)\n",
    "    dp = tree.decision_path(X2_combined)\n",
    "    #print (dp)\n",
    "      \n",
    "    Errors[i,0] = 1 - tree.score(X2_train,y2_train)\n",
    "    Errors[i,1] = 1 - tree.score(X2_test,y2_test)\n",
    "    print(i+1,Errors[i,0],Errors[i,1])"
   ]
  },
  {
   "cell_type": "code",
   "execution_count": null,
   "metadata": {},
   "outputs": [],
   "source": [
    "# plot the final decision gree\n",
    "export_graphviz(tree, out_file='T2.dot', feature_names=['x','y'])\n",
    "with open('T2.dot') as f:\n",
    "    dot_graph = f.read()\n",
    "graphviz.Source(dot_graph)"
   ]
  },
  {
   "cell_type": "code",
   "execution_count": null,
   "metadata": {
    "scrolled": true
   },
   "outputs": [],
   "source": [
    "# plot errors by tree depth    \n",
    "  \n",
    "plt.close('all')\n",
    "fig, ax = plt.subplots(nrows=1, ncols=1, figsize = (8,4))\n",
    "ax.set_xlabel('Maximum Tree Depth')\n",
    "ax.set_ylabel('Error')\n",
    "ax.set_title('Learning an Axis-Aligned Rectange', fontsize ='medium')\n",
    "ax.xaxis.set_major_locator(MaxNLocator(integer=True))\n",
    "ax.plot(np.arange(1,MaxDepth+1),Errors[:,0], label='train')\n",
    "ax.plot(np.arange(1,MaxDepth+1),Errors[:,1], label='test')\n",
    "ax.legend(loc='upper right', fontsize='medium')\n",
    "plt.show() \n"
   ]
  },
  {
   "cell_type": "code",
   "execution_count": null,
   "metadata": {},
   "outputs": [],
   "source": [
    "# learn an origin-aligned circle using x and y using only x and y as features"
   ]
  },
  {
   "cell_type": "code",
   "execution_count": null,
   "metadata": {},
   "outputs": [],
   "source": [
    "# generate data for an origin-centered circle centered with radius 0.5 \n",
    "\n",
    "npts = 10000\n",
    "\n",
    "X5 = np.zeros((npts,5))\n",
    "y5 = np.zeros(npts)\n",
    "\n",
    "for i in range(0,npts): \n",
    "    X5[i,0] = np.random.uniform(-1.0,1.0) \n",
    "    X5[i,1] = np.random.uniform(-1.0,1.0) \n",
    "    if ((X5[i,0]**2+X5[i,1]**2) >= 0.5):\n",
    "        y5[i] = 0\n",
    "    else:\n",
    "        y5[i] = 1\n",
    "  "
   ]
  },
  {
   "cell_type": "code",
   "execution_count": null,
   "metadata": {},
   "outputs": [],
   "source": [
    "# plot data points\n",
    "plt.close('all')\n",
    "plt.figure(figsize=(8, 8))\n",
    "plt.title('Learning an Origin-Centered Circle using 2 features', fontsize='medium')\n",
    "plt.xlabel('x')\n",
    "plt.ylabel('y')\n",
    "plt.scatter(x = X5[y5==0, 0], y = X5[y5==0, 1], color='red', label='0', s=5)\n",
    "plt.scatter(x = X5[y5==1, 0], y = X5[y5==1, 1], color='green', label='1', s=5)\n",
    "plt.axis(range=1, aspect=1)\n",
    "plt.xlim(-1.1,1.1)\n",
    "plt.ylim(-1.1,1.1)\n",
    "plt.show()"
   ]
  },
  {
   "cell_type": "code",
   "execution_count": null,
   "metadata": {
    "scrolled": false
   },
   "outputs": [],
   "source": [
    "# split data into 50% training and 50% test data\n",
    "from sklearn.model_selection import train_test_split\n",
    "\n",
    "X5_train, X5_test, y5_train, y5_test = train_test_split(\n",
    "         X5, y5, test_size=0.50, random_state=0)\n"
   ]
  },
  {
   "cell_type": "code",
   "execution_count": null,
   "metadata": {},
   "outputs": [],
   "source": [
    "# Fit for various depth trees\n",
    "MaxDepth = 10\n",
    "DotFileName ='T5.dot'\n",
    "Errors = np.zeros((MaxDepth,2))\n",
    "\n",
    "print ('Max Depth, Training, Test')\n",
    "\n",
    "for i in range(0,MaxDepth):\n",
    "    tree = DecisionTreeClassifier(criterion='entropy', max_depth=i+1, random_state=0)\n",
    "    tree.fit(X5_train, y5_train)\n",
    "\n",
    "    X5_combined = np.vstack((X5_train, X5_test))\n",
    "    y5_combined = np.hstack((y5_train, y5_test))\n",
    "\n",
    "    # optional outputs\n",
    "    z = tree.apply(X5_combined)\n",
    "    #print(z)\n",
    "    dp = tree.decision_path(X5_combined)\n",
    "    #print (dp)\n",
    "      \n",
    "    Errors[i,0] = 1 - tree.score(X5_train,y5_train)\n",
    "    Errors[i,1] = 1 - tree.score(X5_test,y5_test)\n",
    "    print(i+1,Errors[i,0],Errors[i,1])"
   ]
  },
  {
   "cell_type": "code",
   "execution_count": null,
   "metadata": {},
   "outputs": [],
   "source": [
    "# plot the final decision gree\n",
    "export_graphviz(tree, out_file='T5.dot', feature_names=['x','y','','',''])\n",
    "with open('T5.dot') as f:\n",
    "    dot_graph = f.read()\n",
    "graphviz.Source(dot_graph)"
   ]
  },
  {
   "cell_type": "code",
   "execution_count": null,
   "metadata": {
    "scrolled": false
   },
   "outputs": [],
   "source": [
    "# plot errors by tree depth    \n",
    "  \n",
    "plt.close('all')\n",
    "fig, ax = plt.subplots(nrows=1, ncols=1, figsize = (8,4))\n",
    "ax.set_xlabel('Maximum Tree Depth')\n",
    "ax.set_ylabel('Error')\n",
    "ax.set_title('Learning an Origin-Centered Circle using 2 features', fontsize ='medium')\n",
    "ax.xaxis.set_major_locator(MaxNLocator(integer=True))\n",
    "ax.plot(np.arange(1,MaxDepth+1),Errors[:,0], label='train')\n",
    "ax.plot(np.arange(1,MaxDepth+1),Errors[:,1], label='test')\n",
    "ax.legend(loc='upper right', fontsize='medium')\n",
    "plt.show() \n"
   ]
  },
  {
   "cell_type": "code",
   "execution_count": null,
   "metadata": {},
   "outputs": [],
   "source": [
    "# learn an origin-aligned circle using x, y, x**2, xy, y**2 as the features"
   ]
  },
  {
   "cell_type": "code",
   "execution_count": null,
   "metadata": {},
   "outputs": [],
   "source": [
    "# generate data for an circle centered at (1.0,1.0) with radius 0.5\n",
    "\n",
    "npts = 10000\n",
    "\n",
    "X5 = np.zeros((npts,5))\n",
    "y5 = np.zeros(npts)\n",
    "\n",
    "for i in range(0,npts): \n",
    "    X5[i,0] = np.random.uniform(-1.0,1.0) \n",
    "    X5[i,1] = np.random.uniform(-1.0,1.0)\n",
    "    X5[i,2] = X5[i,0]**2\n",
    "    X5[i,3] = X5[i,0]*X5[i,1]\n",
    "    X5[i,4] = X5[i,1]**2\n",
    "    \n",
    "    \n",
    "    if (((X5[i,0])**2+(X5[i,1])**2) >= 0.5):\n",
    "        y5[i] = 0\n",
    "    else:\n",
    "        y5[i] = 1\n",
    "  "
   ]
  },
  {
   "cell_type": "code",
   "execution_count": null,
   "metadata": {},
   "outputs": [],
   "source": [
    "# plot data points\n",
    "plt.close('all')\n",
    "plt.figure(figsize=(8, 8))\n",
    "plt.title('Learning an Origin-Centered Circle using 5 features', fontsize='medium')\n",
    "plt.xlabel('x')\n",
    "plt.ylabel('y')\n",
    "plt.scatter(x = X5[y5==0, 0], y = X5[y5==0, 1], color='red', label='0', s=5)\n",
    "plt.scatter(x = X5[y5==1, 0], y = X5[y5==1, 1], color='green', label='1', s=5)\n",
    "plt.axis(range=1, aspect=1)\n",
    "plt.xlim(-1.1,1.1)\n",
    "plt.ylim(-1.1,1.1)\n",
    "plt.show()"
   ]
  },
  {
   "cell_type": "code",
   "execution_count": null,
   "metadata": {
    "scrolled": false
   },
   "outputs": [],
   "source": [
    "# split data into 50% training and 50% test data\n",
    "from sklearn.model_selection import train_test_split\n",
    "\n",
    "X5_train, X5_test, y5_train, y5_test = train_test_split(\n",
    "         X5, y5, test_size=0.50, random_state=0)\n"
   ]
  },
  {
   "cell_type": "code",
   "execution_count": null,
   "metadata": {},
   "outputs": [],
   "source": [
    "# Fit for various depth trees\n",
    "MaxDepth = 10\n",
    "Errors = np.zeros((MaxDepth,2))\n",
    "\n",
    "print ('Max Depth, Training, Test')\n",
    "\n",
    "for i in range(0,MaxDepth):\n",
    "    tree = DecisionTreeClassifier(criterion='entropy', max_depth=i+1, random_state=0)\n",
    "    tree.fit(X5_train, y5_train)\n",
    "\n",
    "    X5_combined = np.vstack((X5_train, X5_test))\n",
    "    y5_combined = np.hstack((y5_train, y5_test))\n",
    "\n",
    "    # optional outputs\n",
    "    z = tree.apply(X5_combined)\n",
    "    #print(z)\n",
    "    dp = tree.decision_path(X5_combined)\n",
    "    #print (dp)\n",
    "      \n",
    "    Errors[i,0] = 1 - tree.score(X5_train,y5_train)\n",
    "    Errors[i,1] = 1 - tree.score(X5_test,y5_test)\n",
    "    print(i+1,Errors[i,0],Errors[i,1])"
   ]
  },
  {
   "cell_type": "code",
   "execution_count": null,
   "metadata": {},
   "outputs": [],
   "source": [
    "# plot the final decision gree\n",
    "export_graphviz(tree, out_file='t5a.dot', feature_names=['x','y,','x**2','xy','y**2'])\n",
    "with open('T5a.dot') as f:\n",
    "    dot_graph = f.read()\n",
    "graphviz.Source(dot_graph)"
   ]
  },
  {
   "cell_type": "code",
   "execution_count": null,
   "metadata": {
    "scrolled": false
   },
   "outputs": [],
   "source": [
    "# plot errors by tree depth    \n",
    "  \n",
    "plt.close('all')\n",
    "fig, ax = plt.subplots(nrows=1, ncols=1, figsize = (8,4))\n",
    "ax.set_xlabel('Maximum Tree Depth')\n",
    "ax.set_ylabel('Error')\n",
    "ax.set_title('Learning an Origin-Centered Circle using 5 features', fontsize ='medium')\n",
    "ax.xaxis.set_major_locator(MaxNLocator(integer=True))\n",
    "ax.plot(np.arange(1,MaxDepth+1),Errors[:,0], label='train')\n",
    "ax.plot(np.arange(1,MaxDepth+1),Errors[:,1], label='test')\n",
    "ax.legend(loc='upper right', fontsize='medium')\n",
    "plt.show() \n"
   ]
  },
  {
   "cell_type": "code",
   "execution_count": null,
   "metadata": {},
   "outputs": [],
   "source": [
    "# learn an origin-aligned circle using x, y, x**2, xy, y**2 AND (x**2+y**2) as feature"
   ]
  },
  {
   "cell_type": "code",
   "execution_count": null,
   "metadata": {},
   "outputs": [],
   "source": [
    "# generate data for an circle centered at (1.0,1.0) with radius 0.5\n",
    "\n",
    "npts = 10000\n",
    "\n",
    "X6 = np.zeros((npts,6))\n",
    "y6 = np.zeros(npts)\n",
    "\n",
    "for i in range(0,npts): \n",
    "    X6[i,0] = np.random.uniform(-1.0,1.0) \n",
    "    X6[i,1] = np.random.uniform(-1.0,1.0)\n",
    "    X6[i,2] = X6[i,0]**2\n",
    "    X6[i,3] = X6[i,0]*X5[i,1]\n",
    "    X6[i,4] = X6[i,1]**2\n",
    "    X6[i,5] = X6[i,0]**2+X6[i,1]**2\n",
    "    \n",
    "    \n",
    "    \n",
    "    if (((X6[i,0])**2+(X6[i,1])**2) >= 0.5):\n",
    "        y6[i] = 0\n",
    "    else:\n",
    "        y6[i] = 1\n",
    "  "
   ]
  },
  {
   "cell_type": "code",
   "execution_count": null,
   "metadata": {},
   "outputs": [],
   "source": [
    "# plot data points\n",
    "plt.close('all')\n",
    "plt.figure(figsize=(8, 8))\n",
    "plt.title('Learning an Origin-Centered Circle using 6 features', fontsize='medium')\n",
    "plt.xlabel('x1')\n",
    "plt.ylabel('x2')\n",
    "plt.scatter(x = X6[y6==0, 0], y = X6[y6==0, 1], color='red', label='0', s=5)\n",
    "plt.scatter(x = X6[y6==1, 0], y = X6[y6==1, 1], color='green', label='1', s=5)\n",
    "plt.axis(range=1, aspect=1)\n",
    "plt.xlim(-1.1,1.1)\n",
    "plt.ylim(-1.1,1.1)\n",
    "plt.show()"
   ]
  },
  {
   "cell_type": "code",
   "execution_count": null,
   "metadata": {
    "scrolled": false
   },
   "outputs": [],
   "source": [
    "# split data into 50% training and 50% test data\n",
    "from sklearn.model_selection import train_test_split\n",
    "\n",
    "X6_train, X6_test, y6_train, y6_test = train_test_split(\n",
    "         X6, y6, test_size=0.50, random_state=0)\n"
   ]
  },
  {
   "cell_type": "code",
   "execution_count": null,
   "metadata": {},
   "outputs": [],
   "source": [
    "# Fit for various depth trees\n",
    "MaxDepth = 10\n",
    "Errors = np.zeros((MaxDepth,2))\n",
    "\n",
    "print ('Max Depth, Training, Test')\n",
    "\n",
    "for i in range(0,MaxDepth):\n",
    "    tree = DecisionTreeClassifier(criterion='entropy', max_depth=i+1, random_state=0)\n",
    "    tree.fit(X6_train, y6_train)\n",
    "\n",
    "    X6_combined = np.vstack((X6_train, X6_test))\n",
    "    y6_combined = np.hstack((y6_train, y6_test))\n",
    "\n",
    "    # optional outputs\n",
    "    z = tree.apply(X6_combined)\n",
    "    #print(z)\n",
    "    dp = tree.decision_path(X6_combined)\n",
    "    #print (dp)\n",
    "      \n",
    "    Errors[i,0] = 1 - tree.score(X6_train,y6_train)\n",
    "    Errors[i,1] = 1 - tree.score(X6_test,y6_test)\n",
    "    print(i+1,Errors[i,0],Errors[i,1])"
   ]
  },
  {
   "cell_type": "code",
   "execution_count": null,
   "metadata": {},
   "outputs": [],
   "source": [
    "# plot the final decision gree\n",
    "export_graphviz(tree, out_file='T6.dot', feature_names=['x','y,','x**2','xy','y**2','x**2+y**2'])\n",
    "with open('T6.dot') as f:\n",
    "    dot_graph = f.read()\n",
    "graphviz.Source(dot_graph)"
   ]
  },
  {
   "cell_type": "code",
   "execution_count": null,
   "metadata": {
    "scrolled": false
   },
   "outputs": [],
   "source": [
    "# plot errors by tree depth    \n",
    "  \n",
    "plt.close('all')\n",
    "fig, ax = plt.subplots(nrows=1, ncols=1, figsize = (8,4))\n",
    "ax.set_xlabel('Maximum Tree Depth')\n",
    "ax.set_ylabel('Error')\n",
    "ax.set_title('Learning an Origin-Centered Circle using 6 features', fontsize ='medium')\n",
    "ax.xaxis.set_major_locator(MaxNLocator(integer=True))\n",
    "ax.plot(np.arange(1,MaxDepth+1),Errors[:,0], label='train')\n",
    "ax.plot(np.arange(1,MaxDepth+1),Errors[:,1], label='test')\n",
    "ax.legend(loc='upper right', fontsize='medium')\n",
    "plt.show() \n"
   ]
  },
  {
   "cell_type": "code",
   "execution_count": null,
   "metadata": {},
   "outputs": [],
   "source": []
  }
 ],
 "metadata": {
  "anaconda-cloud": {},
  "kernelspec": {
   "display_name": "Python 3",
   "language": "python",
   "name": "python3"
  },
  "language_info": {
   "codemirror_mode": {
    "name": "ipython",
    "version": 3
   },
   "file_extension": ".py",
   "mimetype": "text/x-python",
   "name": "python",
   "nbconvert_exporter": "python",
   "pygments_lexer": "ipython3",
   "version": "3.6.5"
  }
 },
 "nbformat": 4,
 "nbformat_minor": 1
}
